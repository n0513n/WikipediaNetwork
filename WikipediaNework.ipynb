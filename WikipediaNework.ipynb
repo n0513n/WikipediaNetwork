{
 "cells": [
  {
   "cell_type": "markdown",
   "metadata": {},
   "source": [
    "## Wikipedia Collector\n",
    "### Set environmental variables",
   ]
  },
  {
   "cell_type": "code",
   "execution_count": null,
   "metadata": {},
   "outputs": [],
   "source": [
    "PATH = \"/path/to/WikipediaNetwork\" # <-- optional if running from native path"
   ]
  },
  {
   "cell_type": "code",
   "execution_count": null,
   "metadata": {},
   "outputs": [],
   "source": [
    "import importlib.util, os\n",
    "\n",
    "if not os.path.isdir(PATH):\n",
    "    PATH = os.getcwd().rstrip('notebooks')\n",
    "PATH = os.path.realpath(PATH)\n",
    "\n",
    "spec = importlib.util.spec_from_file_location(\"__init__\", PATH+'/bin/__init__.py')\n",
    "init = importlib.util.module_from_spec(spec)\n",
    "spec.loader.exec_module(init)\n",
    "\n",
    "%load_ext autoreload\n",
    "%autoreload 2"
   ]
  },
  {
   "cell_type": "markdown",
   "metadata": {
    "colab_type": "text",
    "id": "SMmeeinwiTJM"
   },
   "source": [
    "### Import functions"
   ]
  },
  {
   "cell_type": "code",
   "execution_count": null,
   "metadata": {
    "colab": {},
    "colab_type": "code",
    "id": "c_vhrt7IiZ3w"
   },
   "outputs": [],
   "source": [
    "import networkx as nx\n",
    "import plotly.offline as py\n",
    "\n",
    "from tools.WikipediaCollector.wikipedia import *\n",
    "from utils import zipper"
   ]
  },
  {
   "cell_type": "code",
   "execution_count": null,
   "metadata": {},
   "outputs": [],
   "source": [
    "py.init_notebook_mode(connected=True)"
   ]
  },
  {
   "cell_type": "markdown",
   "metadata": {
    "colab_type": "text",
    "id": "auoyb3pNBxCg"
   },
   "source": [
    "### Search Wikipedia articles by title"
   ]
  },
  {
   "cell_type": "code",
   "execution_count": null,
   "metadata": {
    "colab": {},
    "colab_type": "code",
    "id": "IM5PgLoor5AJ"
   },
   "outputs": [],
   "source": [
    "page = \"\" # page title\n",
    "lang = \"\" # language code"
   ]
  },
  {
   "cell_type": "code",
   "execution_count": null,
   "metadata": {
    "colab": {
     "base_uri": "https://localhost:8080/",
     "height": 208
    },
    "colab_type": "code",
    "executionInfo": {
     "elapsed": 1911,
     "status": "ok",
     "timestamp": 1562512929884,
     "user": {
      "displayName": "Nelson Aloysio",
      "photoUrl": "https://lh5.googleusercontent.com/-KBW2myhthJ0/AAAAAAAAAAI/AAAAAAAADVo/MgC-fPntFug/s64/photo.jpg",
      "userId": "06920995483821868840"
     },
     "user_tz": 180
    },
    "id": "90snDQ0jBxKc",
    "outputId": "b6f59c32-aac7-4b1a-aca2-a4a04e019071"
   },
   "outputs": [],
   "source": [
    "w = wiki_search(page, lang=lang); w"
   ]
  },
  {
   "cell_type": "markdown",
   "metadata": {
    "colab_type": "text",
    "id": "1mGDWjPahzkx"
   },
   "source": [
    "### Get Wikipedia page content"
   ]
  },
  {
   "cell_type": "code",
   "execution_count": null,
   "metadata": {},
   "outputs": [],
   "source": [
    "page = \"\"  # page title\n",
    "lang = \"\"  # language code"
   ]
  },
  {
   "cell_type": "code",
   "execution_count": null,
   "metadata": {
    "colab": {
     "base_uri": "https://localhost:8080/",
     "height": 494
    },
    "colab_type": "code",
    "executionInfo": {
     "elapsed": 1730,
     "status": "ok",
     "timestamp": 1562510830535,
     "user": {
      "displayName": "Nelson Aloysio",
      "photoUrl": "https://lh5.googleusercontent.com/-KBW2myhthJ0/AAAAAAAAAAI/AAAAAAAADVo/MgC-fPntFug/s64/photo.jpg",
      "userId": "06920995483821868840"
     },
     "user_tz": 180
    },
    "id": "i63kmGcDgmWJ",
    "outputId": "e6532de9-a79d-4756-cc3c-94912f889a20"
   },
   "outputs": [],
   "source": [
    "w = wiki_page(page, lang=lang)\n",
    "print(w.title, '-', w.url, '\\n\\n>',  w.content)"
   ]
  },
  {
   "cell_type": "markdown",
   "metadata": {
    "colab_type": "text",
    "id": "l4Iyz20shy8_"
   },
   "source": [
    "### Get Wikipedia page summary"
   ]
  },
  {
   "cell_type": "code",
   "execution_count": null,
   "metadata": {},
   "outputs": [],
   "source": [
    "page = \"\"  # page title\n",
    "lang = \"\"  # language code\n",
    "sent = 9   # number of sentences"
   ]
  },
  {
   "cell_type": "code",
   "execution_count": null,
   "metadata": {
    "colab": {
     "base_uri": "https://localhost:8080/",
     "height": 56
    },
    "colab_type": "code",
    "executionInfo": {
     "elapsed": 2265,
     "status": "ok",
     "timestamp": 1562512967699,
     "user": {
      "displayName": "Nelson Aloysio",
      "photoUrl": "https://lh5.googleusercontent.com/-KBW2myhthJ0/AAAAAAAAAAI/AAAAAAAADVo/MgC-fPntFug/s64/photo.jpg",
      "userId": "06920995483821868840"
     },
     "user_tz": 180
    },
    "id": "VgVvzOocgmbR",
    "outputId": "e456be6f-b3db-423c-c9e2-1f1c88de856d"
   },
   "outputs": [],
   "source": [
    "w = wiki_summary(page, sentences=sent, lang=lang); w"
   ]
  },
  {
   "cell_type": "markdown",
   "metadata": {
    "colab_type": "text",
    "id": "12iEifctnuuG"
   },
   "source": [
    "### Build network from Wikipedia hyperlinks"
   ]
  },
  {
   "cell_type": "code",
   "execution_count": null,
   "metadata": {
    "colab": {},
    "colab_type": "code",
    "id": "SYP3q330vBfO"
   },
   "outputs": [],
   "source": [
    "page = \"\"    # page title\n",
    "lang = \"\"    # language code\n",
    "levels = 2   # depth to dig\n",
    "n      = 15  # nodes per level"
   ]
  },
  {
   "cell_type": "code",
   "execution_count": null,
   "metadata": {
    "colab": {},
    "colab_type": "code",
    "id": "Y6kekUiltFBG"
   },
   "outputs": [],
   "source": [
    "G = wiki_graph(pages, lang=lang, levels=levels, n=n if n>0 else None)"
   ]
  },
  {
   "cell_type": "markdown",
   "metadata": {
    "colab_type": "text",
    "id": "CDikIsPo_9Kv"
   },
   "source": [
    "#### Write network graph  →  `wiki_network.gexf`\n",
    "\n",
    "Saves the graph object as `GEXF`, accepted as input for both `Network` analysis and visualization."
   ]
  },
  {
   "cell_type": "code",
   "execution_count": null,
   "metadata": {},
   "outputs": [],
   "source": [
    "nx.write_gexf(G, 'wiki_network.gexf')"
   ]
  },
  {
   "cell_type": "markdown",
   "metadata": {},
   "source": [
    "#### Compress output →  `output.zip`"
   ]
  },
  {
   "cell_type": "code",
   "execution_count": null,
   "metadata": {},
   "outputs": [],
   "source": [
    "zipper.zipdir('output.zip', '.', ['.gexf'])"
   ]
  },
  {
   "cell_type": "markdown",
   "metadata": {},
   "source": [
    "### [Download output files](output.zip)"
   ]
  },
  {
   "cell_type": "markdown",
   "metadata": {
    "colab_type": "text",
    "id": "425U--E1_-pt"
   },
   "source": [
    "___\n",
    "\n",
    "### References\n",
    "* MediaWiki API: https://www.mediawiki.org/wiki/API\n",
    "* Wikipedia @ PyPI: https://pypi.org/project/wikipedia/"
   ]
  }
 ],
 "metadata": {
  "colab": {
   "name": "wikipedia_Davi_Nelson_Raido.ipynb",
   "provenance": [],
   "toc_visible": true,
   "version": "0.3.2"
  },
  "kernelspec": {
   "display_name": "Python 3",
   "language": "python",
   "name": "python3"
  },
  "language_info": {
   "codemirror_mode": {
    "name": "ipython",
    "version": 3
   },
   "file_extension": ".py",
   "mimetype": "text/x-python",
   "name": "python",
   "nbconvert_exporter": "python",
   "pygments_lexer": "ipython3",
   "version": "3.7.3"
  }
 },
 "nbformat": 4,
 "nbformat_minor": 1
}
