{
 "cells": [
  {
   "cell_type": "code",
   "execution_count": 1,
   "metadata": {},
   "outputs": [],
   "source": [
    "PATH = \"/home/neo/scripts/chn@git/NetworkPlot\" # <-- optional if running from native path"
   ]
  },
  {
   "cell_type": "code",
   "execution_count": 2,
   "metadata": {},
   "outputs": [],
   "source": [
    "import importlib.util, os\n",
    "\n",
    "if not os.path.isdir(PATH):\n",
    "    PATH = os.getcwd()\n",
    "PATH = os.path.realpath(PATH)\n",
    "\n",
    "spec = importlib.util.spec_from_file_location(\"__init__\", PATH+'/__init__.py')\n",
    "init = importlib.util.module_from_spec(spec)\n",
    "spec.loader.exec_module(init)\n",
    "\n",
    "%matplotlib inline\n",
    "%load_ext autoreload\n",
    "%autoreload 2"
   ]
  },
  {
   "cell_type": "markdown",
   "metadata": {},
   "source": [
    "### Import functions"
   ]
  },
  {
   "cell_type": "code",
   "execution_count": 9,
   "metadata": {},
   "outputs": [],
   "source": [
    "#import metaknowledge as mk # <-- required for citation network\n",
    "#import networkx as nx # <-- required for random graph\n",
    "from dflib import *\n",
    "from NetworkPlot import NetworkPlot\n",
    "from nxlib import nx_readgraph, nx_readfile"
   ]
  },
  {
   "cell_type": "markdown",
   "metadata": {},
   "source": [
    "### Load network data\n",
    "\n",
    "Choose and import a network graph object to analyze below.\n",
    "\n",
    "#### 1) Graph data file\n",
    "\n",
    "Common graph file formats to be imported as a ```networkx.Graph()``` object. Accepts GDF/GEXF/GML/GraphML, among others."
   ]
  },
  {
   "cell_type": "code",
   "execution_count": 4,
   "metadata": {},
   "outputs": [],
   "source": [
    "graph_file = \"/home/neo/workspace/wiki-ds/level2-ds.gexf\"\n",
    "\n",
    "G = nx_readgraph(graph_file)"
   ]
  },
  {
   "cell_type": "markdown",
   "metadata": {},
   "source": [
    "### Generate network analysis\n",
    "\n",
    "Calls NetworkPlot in order to compute centrality measures, identify modules (clusters) and render graph.\n",
    "\n",
    "Accepted layouts: `circular`, `kamada_kawai`, `fruchterman_reingold`, `spectral`, `spring`, `forceatlas2` and `random`."
   ]
  },
  {
   "cell_type": "code",
   "execution_count": 7,
   "metadata": {
    "scrolled": false
   },
   "outputs": [
    {
     "name": "stdout",
     "output_type": "stream",
     "text": [
      "Loaded 18057 nodes and 38190 connections.\n",
      "Filtering by k-core (k=1)...\n",
      "Got 18057 nodes (100.00%).\n",
      "Nodes: 18057 \n",
      "Edges: 38190 \n",
      "Density: 0.0001171339\n",
      "Avg degree: 4.22994\n",
      "Avg in_degree: 254.6\n",
      "Avg out_degree: 2.11497\n",
      "Modules: 24 \n",
      "Modularity: 0.71269\n",
      "Finished in 19.67s.\n"
     ]
    },
    {
     "data": {
      "text/html": [
       "<div>\n",
       "<style scoped>\n",
       "    .dataframe tbody tr th:only-of-type {\n",
       "        vertical-align: middle;\n",
       "    }\n",
       "\n",
       "    .dataframe tbody tr th {\n",
       "        vertical-align: top;\n",
       "    }\n",
       "\n",
       "    .dataframe thead th {\n",
       "        text-align: right;\n",
       "    }\n",
       "</style>\n",
       "<table border=\"1\" class=\"dataframe\">\n",
       "  <thead>\n",
       "    <tr style=\"text-align: right;\">\n",
       "      <th></th>\n",
       "      <th>degree</th>\n",
       "      <th>in_degree</th>\n",
       "      <th>out_degree</th>\n",
       "    </tr>\n",
       "  </thead>\n",
       "  <tbody>\n",
       "    <tr>\n",
       "      <th>count</th>\n",
       "      <td>18057.000000</td>\n",
       "      <td>18057.000000</td>\n",
       "      <td>18057.000000</td>\n",
       "    </tr>\n",
       "    <tr>\n",
       "      <th>mean</th>\n",
       "      <td>4.229939</td>\n",
       "      <td>2.114969</td>\n",
       "      <td>2.114969</td>\n",
       "    </tr>\n",
       "    <tr>\n",
       "      <th>std</th>\n",
       "      <td>34.839110</td>\n",
       "      <td>31.695104</td>\n",
       "      <td>5.452839</td>\n",
       "    </tr>\n",
       "    <tr>\n",
       "      <th>min</th>\n",
       "      <td>1.000000</td>\n",
       "      <td>0.000000</td>\n",
       "      <td>1.000000</td>\n",
       "    </tr>\n",
       "    <tr>\n",
       "      <th>25%</th>\n",
       "      <td>1.000000</td>\n",
       "      <td>0.000000</td>\n",
       "      <td>1.000000</td>\n",
       "    </tr>\n",
       "    <tr>\n",
       "      <th>50%</th>\n",
       "      <td>1.000000</td>\n",
       "      <td>0.000000</td>\n",
       "      <td>1.000000</td>\n",
       "    </tr>\n",
       "    <tr>\n",
       "      <th>75%</th>\n",
       "      <td>2.000000</td>\n",
       "      <td>0.000000</td>\n",
       "      <td>2.000000</td>\n",
       "    </tr>\n",
       "    <tr>\n",
       "      <th>max</th>\n",
       "      <td>1788.000000</td>\n",
       "      <td>1715.000000</td>\n",
       "      <td>115.000000</td>\n",
       "    </tr>\n",
       "  </tbody>\n",
       "</table>\n",
       "</div>"
      ],
      "text/plain": [
       "             degree     in_degree    out_degree\n",
       "count  18057.000000  18057.000000  18057.000000\n",
       "mean       4.229939      2.114969      2.114969\n",
       "std       34.839110     31.695104      5.452839\n",
       "min        1.000000      0.000000      1.000000\n",
       "25%        1.000000      0.000000      1.000000\n",
       "50%        1.000000      0.000000      1.000000\n",
       "75%        2.000000      0.000000      2.000000\n",
       "max     1788.000000   1715.000000    115.000000"
      ]
     },
     "execution_count": 7,
     "metadata": {},
     "output_type": "execute_result"
    }
   ],
   "source": [
    "df=NetworkPlot(G,\n",
    "            k=1,\n",
    "            df=None,\n",
    "            show_labels=True,\n",
    "            layout='kamada_kawai',\n",
    "            it=500,\n",
    "            deg=True,\n",
    "            clu=False,\n",
    "            clo=False,\n",
    "            eig=False,\n",
    "            bet=False,\n",
    "            bri=False,\n",
    "            bro=False,\n",
    "            mod=True,\n",
    "            renderer='none',\n",
    "            normalized=True,\n",
    "            max_nodes=0,\n",
    "            max_modules=0,\n",
    "            plot_modules=False,\n",
    "            output_folder='d2')"
   ]
  },
  {
   "cell_type": "code",
   "execution_count": 10,
   "metadata": {},
   "outputs": [
    {
     "data": {
      "text/html": [
       "<div>\n",
       "<style scoped>\n",
       "    .dataframe tbody tr th:only-of-type {\n",
       "        vertical-align: middle;\n",
       "    }\n",
       "\n",
       "    .dataframe tbody tr th {\n",
       "        vertical-align: top;\n",
       "    }\n",
       "\n",
       "    .dataframe thead th {\n",
       "        text-align: right;\n",
       "    }\n",
       "</style>\n",
       "<table border=\"1\" class=\"dataframe\">\n",
       "  <thead>\n",
       "    <tr style=\"text-align: right;\">\n",
       "      <th></th>\n",
       "      <th>degree</th>\n",
       "      <th>in_degree</th>\n",
       "      <th>out_degree</th>\n",
       "    </tr>\n",
       "  </thead>\n",
       "  <tbody>\n",
       "    <tr>\n",
       "      <th>count</th>\n",
       "      <td>18057.000000</td>\n",
       "      <td>18057.000000</td>\n",
       "      <td>18057.000000</td>\n",
       "    </tr>\n",
       "    <tr>\n",
       "      <th>mean</th>\n",
       "      <td>4.229939</td>\n",
       "      <td>2.114969</td>\n",
       "      <td>2.114969</td>\n",
       "    </tr>\n",
       "    <tr>\n",
       "      <th>median</th>\n",
       "      <td>1.000000</td>\n",
       "      <td>0.000000</td>\n",
       "      <td>1.000000</td>\n",
       "    </tr>\n",
       "    <tr>\n",
       "      <th>std</th>\n",
       "      <td>34.839110</td>\n",
       "      <td>31.695104</td>\n",
       "      <td>5.452839</td>\n",
       "    </tr>\n",
       "    <tr>\n",
       "      <th>min</th>\n",
       "      <td>1.000000</td>\n",
       "      <td>0.000000</td>\n",
       "      <td>1.000000</td>\n",
       "    </tr>\n",
       "    <tr>\n",
       "      <th>max</th>\n",
       "      <td>1788.000000</td>\n",
       "      <td>1715.000000</td>\n",
       "      <td>115.000000</td>\n",
       "    </tr>\n",
       "    <tr>\n",
       "      <th>10%</th>\n",
       "      <td>1.000000</td>\n",
       "      <td>0.000000</td>\n",
       "      <td>1.000000</td>\n",
       "    </tr>\n",
       "    <tr>\n",
       "      <th>25%</th>\n",
       "      <td>1.000000</td>\n",
       "      <td>0.000000</td>\n",
       "      <td>1.000000</td>\n",
       "    </tr>\n",
       "    <tr>\n",
       "      <th>50%</th>\n",
       "      <td>1.000000</td>\n",
       "      <td>0.000000</td>\n",
       "      <td>1.000000</td>\n",
       "    </tr>\n",
       "    <tr>\n",
       "      <th>75%</th>\n",
       "      <td>2.000000</td>\n",
       "      <td>0.000000</td>\n",
       "      <td>2.000000</td>\n",
       "    </tr>\n",
       "    <tr>\n",
       "      <th>90%</th>\n",
       "      <td>3.000000</td>\n",
       "      <td>0.000000</td>\n",
       "      <td>3.000000</td>\n",
       "    </tr>\n",
       "    <tr>\n",
       "      <th>mad</th>\n",
       "      <td>5.467328</td>\n",
       "      <td>4.194800</td>\n",
       "      <td>1.660792</td>\n",
       "    </tr>\n",
       "    <tr>\n",
       "      <th>var</th>\n",
       "      <td>1213.763585</td>\n",
       "      <td>1004.579604</td>\n",
       "      <td>29.733458</td>\n",
       "    </tr>\n",
       "    <tr>\n",
       "      <th>cova</th>\n",
       "      <td>286.945916</td>\n",
       "      <td>474.985439</td>\n",
       "      <td>14.058577</td>\n",
       "    </tr>\n",
       "  </tbody>\n",
       "</table>\n",
       "</div>"
      ],
      "text/plain": [
       "              degree     in_degree    out_degree\n",
       "count   18057.000000  18057.000000  18057.000000\n",
       "mean        4.229939      2.114969      2.114969\n",
       "median      1.000000      0.000000      1.000000\n",
       "std        34.839110     31.695104      5.452839\n",
       "min         1.000000      0.000000      1.000000\n",
       "max      1788.000000   1715.000000    115.000000\n",
       "10%         1.000000      0.000000      1.000000\n",
       "25%         1.000000      0.000000      1.000000\n",
       "50%         1.000000      0.000000      1.000000\n",
       "75%         2.000000      0.000000      2.000000\n",
       "90%         3.000000      0.000000      3.000000\n",
       "mad         5.467328      4.194800      1.660792\n",
       "var      1213.763585   1004.579604     29.733458\n",
       "cova      286.945916    474.985439     14.058577"
      ]
     },
     "execution_count": 10,
     "metadata": {},
     "output_type": "execute_result"
    }
   ],
   "source": [
    "df_describe(df)"
   ]
  },
  {
   "cell_type": "markdown",
   "metadata": {},
   "source": [
    "#### Compress output →  `output.zip`"
   ]
  },
  {
   "cell_type": "code",
   "execution_count": null,
   "metadata": {},
   "outputs": [],
   "source": [
    "!zip -r output.zip network/"
   ]
  },
  {
   "cell_type": "markdown",
   "metadata": {},
   "source": [
    "### [Download output files](output.zip)"
   ]
  },
  {
   "cell_type": "markdown",
   "metadata": {},
   "source": [
    "_____\n",
    "### References\n",
    "\n",
    "* NetworkX: https://networkx.github.io\n",
    "\n",
    "* Datashader: http://datashader.org/\n",
    "\n",
    "* HoloViews: http://holoviews.org/\n",
    "\n",
    "* plotly: https://plot.ly"
   ]
  }
 ],
 "metadata": {
  "kernelspec": {
   "display_name": "Python 3",
   "language": "python",
   "name": "python3"
  },
  "language_info": {
   "codemirror_mode": {
    "name": "ipython",
    "version": 3
   },
   "file_extension": ".py",
   "mimetype": "text/x-python",
   "name": "python",
   "nbconvert_exporter": "python",
   "pygments_lexer": "ipython3",
   "version": "3.7.5rc1"
  }
 },
 "nbformat": 4,
 "nbformat_minor": 2
}
