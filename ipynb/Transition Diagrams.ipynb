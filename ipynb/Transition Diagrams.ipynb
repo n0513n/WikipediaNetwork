{
 "cells": [
  {
   "cell_type": "code",
   "execution_count": null,
   "metadata": {
    "scrolled": true
   },
   "outputs": [],
   "source": [
    "PATH = \"/home/neo/scripts/chn@git/PyCluster\""
   ]
  },
  {
   "cell_type": "code",
   "execution_count": null,
   "metadata": {},
   "outputs": [],
   "source": [
    "PATH = \"/home/neo/scripts/chn@git/NetworkPlot\" # <-- optional if running from native path"
   ]
  },
  {
   "cell_type": "code",
   "execution_count": null,
   "metadata": {
    "scrolled": true
   },
   "outputs": [],
   "source": [
    "import importlib.util, os\n",
    "\n",
    "if not os.path.isdir(PATH):\n",
    "    PATH = os.getcwd()\n",
    "PATH = os.path.realpath(PATH)\n",
    "\n",
    "spec = importlib.util.spec_from_file_location(\"__init__\", PATH+'/__init__.py')\n",
    "init = importlib.util.module_from_spec(spec)\n",
    "spec.loader.exec_module(init)\n",
    "\n",
    "%matplotlib inline\n",
    "%load_ext autoreload\n",
    "%autoreload 2"
   ]
  },
  {
   "cell_type": "markdown",
   "metadata": {},
   "source": [
    "### Import functions"
   ]
  },
  {
   "cell_type": "code",
   "execution_count": null,
   "metadata": {
    "scrolled": true
   },
   "outputs": [],
   "source": [
    "import networkx as nx\n",
    "import numpy as np\n",
    "import plotly.offline as py\n",
    "\n",
    "py.init_notebook_mode(connected=True)\n",
    "\n",
    "from chart import line_chart\n",
    "from dflib import *\n",
    "from dslib import ds_plot, ds_layout\n",
    "from NetworkPlot import NetworkPlot\n",
    "from nxlib import *\n",
    "from nxplot import *\n",
    "from nxstats import *\n",
    "from tweets import cluster_tweets"
   ]
  },
  {
   "cell_type": "code",
   "execution_count": null,
   "metadata": {},
   "outputs": [],
   "source": [
    "graph_file = \"/home/neo/workspace/wiki-ds/level3-ds.gexf\"\n",
    "\n",
    "G = nx_readgraph(graph_file)\n",
    "\n",
    "df = pd.read_csv(\"/home/neo/workspace/wiki-ds/WikipediaNetwork/d3/CENTRALITY.csv\", index_col='id')"
   ]
  },
  {
   "cell_type": "code",
   "execution_count": 386,
   "metadata": {},
   "outputs": [
    {
     "name": "stdout",
     "output_type": "stream",
     "text": [
      "Got 2709 nodes (6.99%).\n"
     ]
    }
   ],
   "source": [
    "K = nx_k_core(nx_remove_selfloops(G),k=4)\n",
    "m = nx_adj_dict(K,df,column='cat').values()\n",
    "\n",
    "n = len(m)\n",
    "a = np.zeros(shape=(n,n))\n",
    "for i,x in enumerate(list(m)):\n",
    "    for j,v in enumerate(x):\n",
    "        a[i][j] = v\n",
    "matrix = np.matrix(a)"
   ]
  },
  {
   "cell_type": "code",
   "execution_count": 399,
   "metadata": {},
   "outputs": [
    {
     "name": "stdout",
     "output_type": "stream",
     "text": [
      "Module 0 [344.0, 4781.0, 221.0, 360.0, 438.0, 140.0, 84.0] 6368.0\n",
      "Module 1 [2113.0, 134.0, 501.0, 120.0, 305.0, 92.0, 34.0] 3299.0\n",
      "Module 2 [2609.0, 614.0, 31.0, 16.0, 27.0, 27.0, 2.0] 3326.0\n",
      "Module 3 [903.0, 3992.0, 156.0, 40.0, 37.0, 1.0, 0.0] 5129.0\n",
      "Module 4 [5678.0, 525.0, 456.0, 19.0, 42.0, 103.0, 6.0] 6829.0\n",
      "Module 5 [846.0, 205.0, 121.0, 53.0, 93.0, 2.0, 12.0] 1332.0\n",
      "Module 6 [166.0, 774.0, 40.0, 20.0, 12.0, 2.0, 0.0] 1014.0\n"
     ]
    }
   ],
   "source": [
    "for i,x in enumerate(m):\n",
    "    print(list(states.keys())[i], list(x), sum(x))"
   ]
  },
  {
   "cell_type": "code",
   "execution_count": null,
   "metadata": {},
   "outputs": [],
   "source": [
    "for inflation in [i / 10 for i in range(15, 26)]:\n",
    "    result = mc.run_mcl(matrix, inflation=inflation)\n",
    "    clusters = mc.get_clusters(result)\n",
    "    Q = mc.modularity(matrix=matrix, clusters=clusters)\n",
    "    print(\"inflation:\", inflation, \"modularity:\", Q)"
   ]
  },
  {
   "cell_type": "code",
   "execution_count": null,
   "metadata": {},
   "outputs": [],
   "source": [
    "import markov_clustering as mc\n",
    "import random\n",
    "\n",
    "# perform clustering using different inflation values from 1.5 and 2.5\n",
    "# for each clustering run, calculate the modularity\n",
    "result = mc.run_mcl(matrix, inflation=2.1)\n",
    "clusters = mc.get_clusters(result)"
   ]
  },
  {
   "cell_type": "code",
   "execution_count": null,
   "metadata": {
    "scrolled": true
   },
   "outputs": [],
   "source": [
    "df[df['cat']==3].sort_values(by='degree', ascending=False)[:50]\n",
    "#df[df['cat']==0].sort_values(by='degree', ascending=False)[:15]"
   ]
  },
  {
   "cell_type": "markdown",
   "metadata": {},
   "source": [
    "\n"
   ]
  },
  {
   "cell_type": "code",
   "execution_count": null,
   "metadata": {},
   "outputs": [],
   "source": [
    "states"
   ]
  },
  {
   "cell_type": "code",
   "execution_count": null,
   "metadata": {
    "scrolled": true
   },
   "outputs": [],
   "source": [
    "#H = nx_k_core(nx_remove_selfloops(G), 4)\n",
    "#M = nx_groupgraph(H, df)\n",
    "#print(M.order())\n",
    "nx_matrix(H, df)"
   ]
  },
  {
   "cell_type": "code",
   "execution_count": null,
   "metadata": {},
   "outputs": [],
   "source": [
    "pos=nx_layout(M,'circular')\n",
    "nx_plot(M,pos)#,method='bundled')\n",
    "#nx_centrality(M)"
   ]
  },
  {
   "cell_type": "markdown",
   "metadata": {},
   "source": [
    "#### Render transition diagram\n",
    "\n",
    "Methods available for rendering the transition diagram: `graphviz` or `pygraphviz` or `pydot`. **Tip:** try adjusting the transition steps value (`t`)."
   ]
  },
  {
   "cell_type": "code",
   "execution_count": null,
   "metadata": {
    "scrolled": false
   },
   "outputs": [],
   "source": [
    "from IPython.display import Image\n",
    "from markov import markov_chain\n",
    "m = markov_chain(list(M.values()), states=states.values(), method='graphviz')\n",
    "m \n",
    "#Image(m)"
   ]
  },
  {
   "cell_type": "code",
   "execution_count": null,
   "metadata": {},
   "outputs": [],
   "source": [
    "# random walker\n",
    "Q = np.array([[0,2/3,0,1/3],[2/5,0,2/5,1/5],[0,2/3,0,1/3],[1/3,1/3,1/6,0]])\n",
    "s = [ 0,  1,  0,  0]\n",
    "t = 2\n",
    "\n",
    "for x in range(t):\n",
    "    T = Q.dot(s)\n",
    "    print('t%d => %a\\n' % (x, T))"
   ]
  }
 ],
 "metadata": {
  "kernelspec": {
   "display_name": "Python 3",
   "language": "python",
   "name": "python3"
  },
  "language_info": {
   "codemirror_mode": {
    "name": "ipython",
    "version": 3
   },
   "file_extension": ".py",
   "mimetype": "text/x-python",
   "name": "python",
   "nbconvert_exporter": "python",
   "pygments_lexer": "ipython3",
   "version": "3.7.5rc1"
  }
 },
 "nbformat": 4,
 "nbformat_minor": 2
}
